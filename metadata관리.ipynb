{
  "nbformat": 4,
  "nbformat_minor": 0,
  "metadata": {
    "colab": {
      "provenance": [],
      "include_colab_link": true
    },
    "kernelspec": {
      "name": "python3",
      "display_name": "Python 3"
    },
    "language_info": {
      "name": "python"
    }
  },
  "cells": [
    {
      "cell_type": "markdown",
      "metadata": {
        "id": "view-in-github",
        "colab_type": "text"
      },
      "source": [
        "<a href=\"https://colab.research.google.com/github/cwave-org/MUNG/blob/main/metadata%EA%B4%80%EB%A6%AC.ipynb\" target=\"_parent\"><img src=\"https://colab.research.google.com/assets/colab-badge.svg\" alt=\"Open In Colab\"/></a>"
      ]
    },
    {
      "cell_type": "code",
      "source": [
        "from google.colab import drive\n",
        "drive.mount('/content/drive')"
      ],
      "metadata": {
        "id": "lo0fk8WaLvrB",
        "outputId": "87dc57c4-cca3-4484-a44b-b4127a500cc1",
        "colab": {
          "base_uri": "https://localhost:8080/"
        }
      },
      "execution_count": null,
      "outputs": [
        {
          "output_type": "stream",
          "name": "stdout",
          "text": [
            "Mounted at /content/drive\n"
          ]
        }
      ]
    },
    {
      "cell_type": "code",
      "source": [
        "cd /content/drive/Shareddrives/한남동클라쓰/MUNG/라벨링 데이터"
      ],
      "metadata": {
        "colab": {
          "base_uri": "https://localhost:8080/"
        },
        "id": "WmgRATPRDwj1",
        "outputId": "db493057-9f4e-4efd-b312-561bc45eb18b"
      },
      "execution_count": null,
      "outputs": [
        {
          "output_type": "stream",
          "name": "stdout",
          "text": [
            "/content/drive/Shareddrives/한남동클라쓰/MUNG/라벨링 데이터\n"
          ]
        }
      ]
    },
    {
      "cell_type": "code",
      "source": [
        "import pandas as pd"
      ],
      "metadata": {
        "id": "ektGNgSqEQxI"
      },
      "execution_count": null,
      "outputs": []
    },
    {
      "cell_type": "code",
      "source": [
        "from glob import glob\n",
        "for filename in glob('*.json'):\n",
        "  print(filename)"
      ],
      "metadata": {
        "colab": {
          "base_uri": "https://localhost:8080/"
        },
        "id": "B7pI2cQDDo0e",
        "outputId": "74096794-1cbe-4129-82d2-b78abecfa3a5"
      },
      "execution_count": null,
      "outputs": [
        {
          "output_type": "stream",
          "name": "stdout",
          "text": [
            "B_10_CHI_SF_20221116_10_000929_13.json\n",
            "B_10_CHI_SF_20221116_10_000929_08.json\n",
            "B_10_CHI_SF_20221116_10_000929_05.json\n",
            "B_10_CHI_SF_20221116_10_000929_07.json\n",
            "B_10_CHI_SF_20221116_10_000929_16.json\n",
            "B_10_CHI_SF_20221116_10_000929_04.json\n",
            "B_10_CHI_SF_20221116_10_000929_02.json\n",
            "B_10_CHI_SF_20221116_10_000929_10.json\n",
            "B_10_CHI_SF_20221116_10_000929_11.json\n",
            "B_10_CHI_SF_20221116_10_000929_09.json\n",
            "B_10_CHI_SF_20221116_10_000929_06.json\n",
            "B_10_CHI_SF_20221116_10_000929_12.json\n",
            "B_10_CHI_SF_20221116_10_000929_03.json\n",
            "B_10_CHI_SF_20221116_10_000929_14.json\n",
            "B_10_CHI_SF_20221116_10_000929_17.json\n",
            "B_10_CHI_SF_20221116_10_000929_01.json\n",
            "B_10_CHI_SF_20221116_10_000929_15.json\n",
            "B_10_CHI_SF_20221116_10_000929_19.json\n",
            "B_10_CHI_SF_20221117_10_000957_09.json\n",
            "B_10_CHI_SF_20221116_10_000929_20.json\n",
            "B_10_CHI_SF_20221117_10_000957_13.json\n",
            "B_10_CHI_SF_20221117_10_000957_03.json\n",
            "B_10_CHI_SF_20221117_10_000957_06.json\n",
            "B_10_CHI_SF_20221117_10_000957_11.json\n",
            "B_10_CHI_SF_20221117_10_000957_10.json\n",
            "B_10_CHI_SF_20221117_10_000957_04.json\n",
            "B_10_CHI_SF_20221116_10_000929_18.json\n",
            "B_10_CHI_SF_20221117_10_000957_07.json\n",
            "B_10_CHI_SF_20221117_10_000957_08.json\n",
            "B_10_CHI_SF_20221117_10_000957_02.json\n",
            "B_10_CHI_SF_20221117_10_000957_01.json\n",
            "B_10_CHI_SF_20221117_10_000957_15.json\n",
            "B_10_CHI_SF_20221117_10_000957_20.json\n",
            "B_10_DRI_CM_20221121_10_001074_13.json\n",
            "B_10_CHI_SF_20221117_10_000957_19.json\n",
            "B_10_DRI_CM_20221121_10_001074_15.json\n",
            "B_10_DRI_CM_20221121_10_001074_06.json\n",
            "B_10_DRI_CM_20221121_10_001074_01.json\n",
            "B_10_CHI_SF_20221117_10_000957_16.json\n",
            "B_10_DRI_CM_20221121_10_001074_12.json\n",
            "B_10_DRI_CM_20221121_10_001074_05.json\n",
            "B_10_DRI_CM_20221121_10_001074_10.json\n",
            "B_10_CHI_SF_20221117_10_000957_14.json\n",
            "B_10_DRI_CM_20221121_10_001074_04.json\n",
            "B_10_DRI_CM_20221121_10_001074_03.json\n",
            "B_10_DRI_CM_20221121_10_001074_09.json\n",
            "B_10_DRI_CM_20221121_10_001074_11.json\n",
            "B_10_DRI_CM_20221121_10_001074_08.json\n",
            "B_10_DRI_CM_20221121_10_001074_07.json\n",
            "B_10_DRI_CM_20221121_10_001074_14.json\n",
            "B_10_CHI_SF_20221117_10_000957_18.json\n",
            "B_10_DRI_CM_20221121_10_001074_18.json\n",
            "B_10_ETC_CM_20221116_10_000928_06.json\n",
            "B_10_POM_CM_20221116_10_000930_01.json\n",
            "B_10_ETC_CM_20221116_10_000928_15.json\n",
            "B_10_DRI_CM_20221121_10_001074_20.json\n",
            "B_10_POM_CM_20221116_10_000930_05.json\n",
            "B_10_ETC_CM_20221116_10_000928_02.json\n",
            "B_10_ETC_CM_20221116_10_000928_10.json\n",
            "B_10_POM_CM_20221116_10_000930_04.json\n",
            "B_10_ETC_CM_20221116_10_000928_01.json\n",
            "B_10_ETC_CM_20221116_10_000928_03.json\n",
            "B_10_ETC_CM_20221116_10_000928_04.json\n",
            "B_10_ETC_CM_20221116_10_000928_05.json\n",
            "B_10_DRI_CM_20221121_10_001074_16.json\n",
            "B_10_POM_CM_20221116_10_000930_02.json\n",
            "B_10_ETC_CM_20221116_10_000928_16.json\n",
            "B_10_ETC_CM_20221116_10_000928_17.json\n",
            "B_10_DRI_CM_20221121_10_001074_19.json\n",
            "B_10_ETC_CM_20221116_10_000928_20.json\n",
            "B_10_DRI_CM_20221121_10_001074_17.json\n",
            "B_10_ETC_CM_20221116_10_000928_13.json\n",
            "B_10_ETC_CM_20221116_10_000928_19.json\n",
            "B_10_ETC_CM_20221116_10_000928_09.json\n",
            "B_10_ETC_CM_20221116_10_000928_08.json\n",
            "B_10_POM_CM_20221116_10_000930_07.json\n",
            "B_10_ETC_CM_20221116_10_000928_07.json\n",
            "B_10_POM_CM_20221116_10_000930_03.json\n",
            "B_10_ETC_CM_20221116_10_000928_18.json\n",
            "B_10_POM_CM_20221116_10_000930_08.json\n",
            "B_10_ETC_CM_20221116_10_000928_11.json\n",
            "B_10_POO_CM_20221121_10_001073_11.json\n",
            "B_10_POO_CM_20221121_10_001073_10.json\n",
            "B_10_POO_CM_20221121_10_001073_05.json\n",
            "B_10_POM_CM_20221116_10_000930_12.json\n",
            "B_10_POO_CM_20221121_10_001073_04.json\n",
            "B_10_POM_CM_20221116_10_000930_20.json\n",
            "B_10_POO_CM_20221121_10_001073_06.json\n",
            "B_10_POO_CM_20221121_10_001075_01.json\n",
            "B_10_POO_CM_20221121_10_001073_16.json\n",
            "B_10_POM_CM_20221116_10_000930_10.json\n",
            "B_10_POO_CM_20221121_10_001073_13.json\n",
            "B_10_POM_CM_20221116_10_000930_13.json\n",
            "B_10_POM_CM_20221116_10_000930_19.json\n",
            "B_10_POO_CM_20221121_10_001073_17.json\n",
            "B_10_POO_CM_20221121_10_001073_02.json\n",
            "B_10_POO_CM_20221121_10_001073_14.json\n",
            "B_10_POO_CM_20221121_10_001073_18.json\n",
            "B_10_POM_CM_20221116_10_000930_11.json\n",
            "B_10_POO_CM_20221121_10_001073_03.json\n",
            "B_10_POO_CM_20221121_10_001073_20.json\n",
            "B_10_POO_CM_20221121_10_001073_19.json\n",
            "B_10_POO_CM_20221121_10_001073_15.json\n",
            "B_10_POM_CM_20221116_10_000930_18.json\n",
            "B_10_POO_CM_20221121_10_001073_08.json\n",
            "B_10_POO_CM_20221121_10_001073_09.json\n",
            "B_10_POO_CM_20221121_10_001073_12.json\n",
            "B_10_POM_CM_20221116_10_000930_16.json\n",
            "B_10_POO_CM_20221121_10_001073_07.json\n",
            "B_10_POO_CM_20221121_10_001073_01.json\n",
            "B_10_POO_CM_20221121_10_001075_13.json\n",
            "B_10_POO_CM_20221121_10_001088_02.json\n",
            "B_10_POO_CM_20221121_10_001075_02.json\n",
            "B_10_POO_CM_20221121_10_001088_01.json\n",
            "B_10_POO_CM_20221121_10_001075_19.json\n",
            "B_10_POO_CM_20221121_10_001088_12.json\n",
            "B_10_POO_CM_20221121_10_001075_14.json\n",
            "B_10_POO_CM_20221121_10_001075_05.json\n",
            "B_10_POO_CM_20221121_10_001088_03.json\n",
            "B_10_POO_CM_20221121_10_001075_17.json\n",
            "B_10_POO_CM_20221121_10_001075_08.json\n",
            "B_10_POO_CM_20221121_10_001075_20.json\n",
            "B_10_POO_CM_20221121_10_001075_18.json\n",
            "B_10_POO_CM_20221121_10_001075_10.json\n",
            "B_10_POO_CM_20221121_10_001075_16.json\n",
            "B_10_POO_CM_20221121_10_001088_08.json\n",
            "B_10_POO_CM_20221121_10_001088_11.json\n",
            "B_10_POO_CM_20221121_10_001088_06.json\n",
            "B_10_POO_CM_20221121_10_001088_07.json\n",
            "B_10_POO_CM_20221121_10_001088_09.json\n",
            "B_10_POO_CM_20221121_10_001088_05.json\n",
            "B_10_POO_CM_20221121_10_001088_10.json\n",
            "B_10_POO_CM_20221121_10_001075_03.json\n",
            "B_10_POO_CM_20221121_10_001075_12.json\n",
            "B_10_POO_CM_20221121_10_001075_09.json\n",
            "B_10_POO_CM_20221121_10_001075_07.json\n",
            "B_10_POO_CM_20221121_10_001075_15.json\n",
            "B_10_POO_CM_20221121_10_001088_04.json\n",
            "B_10_POO_CM_20221121_10_001075_11.json\n",
            "B_10_POO_CM_20221121_10_001075_06.json\n",
            "B_10_POO_CM_20221121_10_001088_14.json\n",
            "B_10_POO_CM_20221121_10_001088_20.json\n",
            "B_10_POO_CM_20221121_10_001088_15.json\n",
            "B_10_POO_CM_20221121_10_001088_17.json\n",
            "B_10_POO_CM_20221121_10_001088_16.json\n",
            "B_10_POO_CM_20221121_10_001088_13.json\n",
            "B_10_POO_CM_20221121_10_001088_18.json\n",
            "B_10_POO_CM_20221121_10_001088_19.json\n"
          ]
        }
      ]
    },
    {
      "cell_type": "code",
      "source": [
        "from IPython.display import display\n",
        "\n",
        "df_metadata=pd.DataFrame()\n",
        "df_annotations=pd.DataFrame(columns=['image-id', 'label'])"
      ],
      "metadata": {
        "id": "VElc6Niv-z3Y"
      },
      "execution_count": null,
      "outputs": []
    },
    {
      "cell_type": "code",
      "source": [
        "#df_ulsan_namgu=pd.concat([df_ulsan_namgu, df])\n",
        "\n",
        "for file in glob('*.json'):\n",
        "  df = pd.read_json(file)\n",
        "  df = df.transpose()\n",
        "  print(df)\n",
        "  df1=df['metadata']\n",
        "  df2=df['annotations']\n",
        "  #print(df2)\n",
        "  #df_metadata=pd.concat([df_metadata, df1])\n",
        "  #df_annotations=pd.merge(df_annotations,df2, on=\"label\" how=\"inner\")\n",
        "  # print(df['metadata'])\n",
        "  # display(df.head())\n",
        "  print('\\n')\n",
        "    \n"
      ],
      "metadata": {
        "colab": {
          "base_uri": "https://localhost:8080/",
          "height": 1000
        },
        "id": "tUz-54_LDsuV",
        "outputId": "243b1fea-187d-4519-9c15-8e041068460a"
      },
      "execution_count": null,
      "outputs": [
        {
          "output_type": "stream",
          "name": "stdout",
          "text": [
            "            type                                                 id  \\\n",
            "metadata       B  {'species': '10', 'mission-id': '10_000929', '...   \n",
            "annotations  NaN                                                NaN   \n",
            "\n",
            "                                                      physical  \\\n",
            "metadata     {'weight': 2.5, 'shoulder-height': 19, 'neck-s...   \n",
            "annotations                                                NaN   \n",
            "\n",
            "                           image  \\\n",
            "metadata     {'body-part': '13'}   \n",
            "annotations                  NaN   \n",
            "\n",
            "                                                      breeding  \\\n",
            "metadata     {'exercise': 2, 'food-count': 4, 'environment'...   \n",
            "annotations                                                NaN   \n",
            "\n",
            "                                                       medical  \\\n",
            "metadata     {'disease': 'ABN', 'diseaseName': 'CAR', 'CRP'...   \n",
            "annotations                                                NaN   \n",
            "\n",
            "                                                         vital  \\\n",
            "metadata     {'heart-rate': 142, 'breating-rate': 33, 'body...   \n",
            "annotations                                                NaN   \n",
            "\n",
            "                                          image-id  \\\n",
            "metadata                                       NaN   \n",
            "annotations  B_10_CHI_SF_20221116_10_000929_13.jpg   \n",
            "\n",
            "                                                         label  \n",
            "metadata                                                   NaN  \n",
            "annotations  {'label': '전신', 'points': [[921, 268], [2183, ...  \n"
          ]
        },
        {
          "output_type": "error",
          "ename": "KeyError",
          "evalue": "ignored",
          "traceback": [
            "\u001b[0;31m---------------------------------------------------------------------------\u001b[0m",
            "\u001b[0;31mKeyError\u001b[0m                                  Traceback (most recent call last)",
            "\u001b[0;32m/usr/local/lib/python3.8/dist-packages/pandas/core/indexes/base.py\u001b[0m in \u001b[0;36mget_loc\u001b[0;34m(self, key, method, tolerance)\u001b[0m\n\u001b[1;32m   3360\u001b[0m             \u001b[0;32mtry\u001b[0m\u001b[0;34m:\u001b[0m\u001b[0;34m\u001b[0m\u001b[0;34m\u001b[0m\u001b[0m\n\u001b[0;32m-> 3361\u001b[0;31m                 \u001b[0;32mreturn\u001b[0m \u001b[0mself\u001b[0m\u001b[0;34m.\u001b[0m\u001b[0m_engine\u001b[0m\u001b[0;34m.\u001b[0m\u001b[0mget_loc\u001b[0m\u001b[0;34m(\u001b[0m\u001b[0mcasted_key\u001b[0m\u001b[0;34m)\u001b[0m\u001b[0;34m\u001b[0m\u001b[0;34m\u001b[0m\u001b[0m\n\u001b[0m\u001b[1;32m   3362\u001b[0m             \u001b[0;32mexcept\u001b[0m \u001b[0mKeyError\u001b[0m \u001b[0;32mas\u001b[0m \u001b[0merr\u001b[0m\u001b[0;34m:\u001b[0m\u001b[0;34m\u001b[0m\u001b[0;34m\u001b[0m\u001b[0m\n",
            "\u001b[0;32m/usr/local/lib/python3.8/dist-packages/pandas/_libs/index.pyx\u001b[0m in \u001b[0;36mpandas._libs.index.IndexEngine.get_loc\u001b[0;34m()\u001b[0m\n",
            "\u001b[0;32m/usr/local/lib/python3.8/dist-packages/pandas/_libs/index.pyx\u001b[0m in \u001b[0;36mpandas._libs.index.IndexEngine.get_loc\u001b[0;34m()\u001b[0m\n",
            "\u001b[0;32mpandas/_libs/hashtable_class_helper.pxi\u001b[0m in \u001b[0;36mpandas._libs.hashtable.PyObjectHashTable.get_item\u001b[0;34m()\u001b[0m\n",
            "\u001b[0;32mpandas/_libs/hashtable_class_helper.pxi\u001b[0m in \u001b[0;36mpandas._libs.hashtable.PyObjectHashTable.get_item\u001b[0;34m()\u001b[0m\n",
            "\u001b[0;31mKeyError\u001b[0m: 'metadata'",
            "\nThe above exception was the direct cause of the following exception:\n",
            "\u001b[0;31mKeyError\u001b[0m                                  Traceback (most recent call last)",
            "\u001b[0;32m<ipython-input-40-86907ec7ee1b>\u001b[0m in \u001b[0;36m<module>\u001b[0;34m\u001b[0m\n\u001b[1;32m      5\u001b[0m   \u001b[0mdf\u001b[0m \u001b[0;34m=\u001b[0m \u001b[0mdf\u001b[0m\u001b[0;34m.\u001b[0m\u001b[0mtranspose\u001b[0m\u001b[0;34m(\u001b[0m\u001b[0;34m)\u001b[0m\u001b[0;34m\u001b[0m\u001b[0;34m\u001b[0m\u001b[0m\n\u001b[1;32m      6\u001b[0m   \u001b[0mprint\u001b[0m\u001b[0;34m(\u001b[0m\u001b[0mdf\u001b[0m\u001b[0;34m)\u001b[0m\u001b[0;34m\u001b[0m\u001b[0;34m\u001b[0m\u001b[0m\n\u001b[0;32m----> 7\u001b[0;31m   \u001b[0mdf1\u001b[0m\u001b[0;34m=\u001b[0m\u001b[0mdf\u001b[0m\u001b[0;34m[\u001b[0m\u001b[0;34m'metadata'\u001b[0m\u001b[0;34m]\u001b[0m\u001b[0;34m\u001b[0m\u001b[0;34m\u001b[0m\u001b[0m\n\u001b[0m\u001b[1;32m      8\u001b[0m   \u001b[0mdf2\u001b[0m\u001b[0;34m=\u001b[0m\u001b[0mdf\u001b[0m\u001b[0;34m[\u001b[0m\u001b[0;34m'annotations'\u001b[0m\u001b[0;34m]\u001b[0m\u001b[0;34m\u001b[0m\u001b[0;34m\u001b[0m\u001b[0m\n\u001b[1;32m      9\u001b[0m   \u001b[0;31m#print(df2)\u001b[0m\u001b[0;34m\u001b[0m\u001b[0;34m\u001b[0m\u001b[0;34m\u001b[0m\u001b[0m\n",
            "\u001b[0;32m/usr/local/lib/python3.8/dist-packages/pandas/core/frame.py\u001b[0m in \u001b[0;36m__getitem__\u001b[0;34m(self, key)\u001b[0m\n\u001b[1;32m   3456\u001b[0m             \u001b[0;32mif\u001b[0m \u001b[0mself\u001b[0m\u001b[0;34m.\u001b[0m\u001b[0mcolumns\u001b[0m\u001b[0;34m.\u001b[0m\u001b[0mnlevels\u001b[0m \u001b[0;34m>\u001b[0m \u001b[0;36m1\u001b[0m\u001b[0;34m:\u001b[0m\u001b[0;34m\u001b[0m\u001b[0;34m\u001b[0m\u001b[0m\n\u001b[1;32m   3457\u001b[0m                 \u001b[0;32mreturn\u001b[0m \u001b[0mself\u001b[0m\u001b[0;34m.\u001b[0m\u001b[0m_getitem_multilevel\u001b[0m\u001b[0;34m(\u001b[0m\u001b[0mkey\u001b[0m\u001b[0;34m)\u001b[0m\u001b[0;34m\u001b[0m\u001b[0;34m\u001b[0m\u001b[0m\n\u001b[0;32m-> 3458\u001b[0;31m             \u001b[0mindexer\u001b[0m \u001b[0;34m=\u001b[0m \u001b[0mself\u001b[0m\u001b[0;34m.\u001b[0m\u001b[0mcolumns\u001b[0m\u001b[0;34m.\u001b[0m\u001b[0mget_loc\u001b[0m\u001b[0;34m(\u001b[0m\u001b[0mkey\u001b[0m\u001b[0;34m)\u001b[0m\u001b[0;34m\u001b[0m\u001b[0;34m\u001b[0m\u001b[0m\n\u001b[0m\u001b[1;32m   3459\u001b[0m             \u001b[0;32mif\u001b[0m \u001b[0mis_integer\u001b[0m\u001b[0;34m(\u001b[0m\u001b[0mindexer\u001b[0m\u001b[0;34m)\u001b[0m\u001b[0;34m:\u001b[0m\u001b[0;34m\u001b[0m\u001b[0;34m\u001b[0m\u001b[0m\n\u001b[1;32m   3460\u001b[0m                 \u001b[0mindexer\u001b[0m \u001b[0;34m=\u001b[0m \u001b[0;34m[\u001b[0m\u001b[0mindexer\u001b[0m\u001b[0;34m]\u001b[0m\u001b[0;34m\u001b[0m\u001b[0;34m\u001b[0m\u001b[0m\n",
            "\u001b[0;32m/usr/local/lib/python3.8/dist-packages/pandas/core/indexes/base.py\u001b[0m in \u001b[0;36mget_loc\u001b[0;34m(self, key, method, tolerance)\u001b[0m\n\u001b[1;32m   3361\u001b[0m                 \u001b[0;32mreturn\u001b[0m \u001b[0mself\u001b[0m\u001b[0;34m.\u001b[0m\u001b[0m_engine\u001b[0m\u001b[0;34m.\u001b[0m\u001b[0mget_loc\u001b[0m\u001b[0;34m(\u001b[0m\u001b[0mcasted_key\u001b[0m\u001b[0;34m)\u001b[0m\u001b[0;34m\u001b[0m\u001b[0;34m\u001b[0m\u001b[0m\n\u001b[1;32m   3362\u001b[0m             \u001b[0;32mexcept\u001b[0m \u001b[0mKeyError\u001b[0m \u001b[0;32mas\u001b[0m \u001b[0merr\u001b[0m\u001b[0;34m:\u001b[0m\u001b[0;34m\u001b[0m\u001b[0;34m\u001b[0m\u001b[0m\n\u001b[0;32m-> 3363\u001b[0;31m                 \u001b[0;32mraise\u001b[0m \u001b[0mKeyError\u001b[0m\u001b[0;34m(\u001b[0m\u001b[0mkey\u001b[0m\u001b[0;34m)\u001b[0m \u001b[0;32mfrom\u001b[0m \u001b[0merr\u001b[0m\u001b[0;34m\u001b[0m\u001b[0;34m\u001b[0m\u001b[0m\n\u001b[0m\u001b[1;32m   3364\u001b[0m \u001b[0;34m\u001b[0m\u001b[0m\n\u001b[1;32m   3365\u001b[0m         \u001b[0;32mif\u001b[0m \u001b[0mis_scalar\u001b[0m\u001b[0;34m(\u001b[0m\u001b[0mkey\u001b[0m\u001b[0;34m)\u001b[0m \u001b[0;32mand\u001b[0m \u001b[0misna\u001b[0m\u001b[0;34m(\u001b[0m\u001b[0mkey\u001b[0m\u001b[0;34m)\u001b[0m \u001b[0;32mand\u001b[0m \u001b[0;32mnot\u001b[0m \u001b[0mself\u001b[0m\u001b[0;34m.\u001b[0m\u001b[0mhasnans\u001b[0m\u001b[0;34m:\u001b[0m\u001b[0;34m\u001b[0m\u001b[0;34m\u001b[0m\u001b[0m\n",
            "\u001b[0;31mKeyError\u001b[0m: 'metadata'"
          ]
        }
      ]
    },
    {
      "cell_type": "code",
      "source": [
        "df_annotations"
      ],
      "metadata": {
        "colab": {
          "base_uri": "https://localhost:8080/",
          "height": 424
        },
        "id": "F9z_1gh7_BgY",
        "outputId": "9e844098-ae45-47ae-c23d-2238aabb09ae"
      },
      "execution_count": null,
      "outputs": [
        {
          "output_type": "execute_result",
          "data": {
            "text/plain": [
              "                                                          0\n",
              "type                                                      B\n",
              "id        {'species': '10', 'mission-id': '10_000929', '...\n",
              "physical  {'weight': 2.5, 'shoulder-height': 19, 'neck-s...\n",
              "image                                   {'body-part': '13'}\n",
              "breeding  {'exercise': 2, 'food-count': 4, 'environment'...\n",
              "...                                                     ...\n",
              "breeding  {'exercise': 2, 'food-count': 4, 'environment'...\n",
              "medical   {'disease': 'ABN', 'diseaseName': 'CAR', 'CRP'...\n",
              "vital     {'heart-rate': 142, 'breating-rate': 33, 'body...\n",
              "image-id                                                NaN\n",
              "label                                                   NaN\n",
              "\n",
              "[1341 rows x 1 columns]"
            ],
            "text/html": [
              "\n",
              "  <div id=\"df-091a9bd7-1d20-4068-bc63-88b027e105e6\">\n",
              "    <div class=\"colab-df-container\">\n",
              "      <div>\n",
              "<style scoped>\n",
              "    .dataframe tbody tr th:only-of-type {\n",
              "        vertical-align: middle;\n",
              "    }\n",
              "\n",
              "    .dataframe tbody tr th {\n",
              "        vertical-align: top;\n",
              "    }\n",
              "\n",
              "    .dataframe thead th {\n",
              "        text-align: right;\n",
              "    }\n",
              "</style>\n",
              "<table border=\"1\" class=\"dataframe\">\n",
              "  <thead>\n",
              "    <tr style=\"text-align: right;\">\n",
              "      <th></th>\n",
              "      <th>0</th>\n",
              "    </tr>\n",
              "  </thead>\n",
              "  <tbody>\n",
              "    <tr>\n",
              "      <th>type</th>\n",
              "      <td>B</td>\n",
              "    </tr>\n",
              "    <tr>\n",
              "      <th>id</th>\n",
              "      <td>{'species': '10', 'mission-id': '10_000929', '...</td>\n",
              "    </tr>\n",
              "    <tr>\n",
              "      <th>physical</th>\n",
              "      <td>{'weight': 2.5, 'shoulder-height': 19, 'neck-s...</td>\n",
              "    </tr>\n",
              "    <tr>\n",
              "      <th>image</th>\n",
              "      <td>{'body-part': '13'}</td>\n",
              "    </tr>\n",
              "    <tr>\n",
              "      <th>breeding</th>\n",
              "      <td>{'exercise': 2, 'food-count': 4, 'environment'...</td>\n",
              "    </tr>\n",
              "    <tr>\n",
              "      <th>...</th>\n",
              "      <td>...</td>\n",
              "    </tr>\n",
              "    <tr>\n",
              "      <th>breeding</th>\n",
              "      <td>{'exercise': 2, 'food-count': 4, 'environment'...</td>\n",
              "    </tr>\n",
              "    <tr>\n",
              "      <th>medical</th>\n",
              "      <td>{'disease': 'ABN', 'diseaseName': 'CAR', 'CRP'...</td>\n",
              "    </tr>\n",
              "    <tr>\n",
              "      <th>vital</th>\n",
              "      <td>{'heart-rate': 142, 'breating-rate': 33, 'body...</td>\n",
              "    </tr>\n",
              "    <tr>\n",
              "      <th>image-id</th>\n",
              "      <td>NaN</td>\n",
              "    </tr>\n",
              "    <tr>\n",
              "      <th>label</th>\n",
              "      <td>NaN</td>\n",
              "    </tr>\n",
              "  </tbody>\n",
              "</table>\n",
              "<p>1341 rows × 1 columns</p>\n",
              "</div>\n",
              "      <button class=\"colab-df-convert\" onclick=\"convertToInteractive('df-091a9bd7-1d20-4068-bc63-88b027e105e6')\"\n",
              "              title=\"Convert this dataframe to an interactive table.\"\n",
              "              style=\"display:none;\">\n",
              "        \n",
              "  <svg xmlns=\"http://www.w3.org/2000/svg\" height=\"24px\"viewBox=\"0 0 24 24\"\n",
              "       width=\"24px\">\n",
              "    <path d=\"M0 0h24v24H0V0z\" fill=\"none\"/>\n",
              "    <path d=\"M18.56 5.44l.94 2.06.94-2.06 2.06-.94-2.06-.94-.94-2.06-.94 2.06-2.06.94zm-11 1L8.5 8.5l.94-2.06 2.06-.94-2.06-.94L8.5 2.5l-.94 2.06-2.06.94zm10 10l.94 2.06.94-2.06 2.06-.94-2.06-.94-.94-2.06-.94 2.06-2.06.94z\"/><path d=\"M17.41 7.96l-1.37-1.37c-.4-.4-.92-.59-1.43-.59-.52 0-1.04.2-1.43.59L10.3 9.45l-7.72 7.72c-.78.78-.78 2.05 0 2.83L4 21.41c.39.39.9.59 1.41.59.51 0 1.02-.2 1.41-.59l7.78-7.78 2.81-2.81c.8-.78.8-2.07 0-2.86zM5.41 20L4 18.59l7.72-7.72 1.47 1.35L5.41 20z\"/>\n",
              "  </svg>\n",
              "      </button>\n",
              "      \n",
              "  <style>\n",
              "    .colab-df-container {\n",
              "      display:flex;\n",
              "      flex-wrap:wrap;\n",
              "      gap: 12px;\n",
              "    }\n",
              "\n",
              "    .colab-df-convert {\n",
              "      background-color: #E8F0FE;\n",
              "      border: none;\n",
              "      border-radius: 50%;\n",
              "      cursor: pointer;\n",
              "      display: none;\n",
              "      fill: #1967D2;\n",
              "      height: 32px;\n",
              "      padding: 0 0 0 0;\n",
              "      width: 32px;\n",
              "    }\n",
              "\n",
              "    .colab-df-convert:hover {\n",
              "      background-color: #E2EBFA;\n",
              "      box-shadow: 0px 1px 2px rgba(60, 64, 67, 0.3), 0px 1px 3px 1px rgba(60, 64, 67, 0.15);\n",
              "      fill: #174EA6;\n",
              "    }\n",
              "\n",
              "    [theme=dark] .colab-df-convert {\n",
              "      background-color: #3B4455;\n",
              "      fill: #D2E3FC;\n",
              "    }\n",
              "\n",
              "    [theme=dark] .colab-df-convert:hover {\n",
              "      background-color: #434B5C;\n",
              "      box-shadow: 0px 1px 3px 1px rgba(0, 0, 0, 0.15);\n",
              "      filter: drop-shadow(0px 1px 2px rgba(0, 0, 0, 0.3));\n",
              "      fill: #FFFFFF;\n",
              "    }\n",
              "  </style>\n",
              "\n",
              "      <script>\n",
              "        const buttonEl =\n",
              "          document.querySelector('#df-091a9bd7-1d20-4068-bc63-88b027e105e6 button.colab-df-convert');\n",
              "        buttonEl.style.display =\n",
              "          google.colab.kernel.accessAllowed ? 'block' : 'none';\n",
              "\n",
              "        async function convertToInteractive(key) {\n",
              "          const element = document.querySelector('#df-091a9bd7-1d20-4068-bc63-88b027e105e6');\n",
              "          const dataTable =\n",
              "            await google.colab.kernel.invokeFunction('convertToInteractive',\n",
              "                                                     [key], {});\n",
              "          if (!dataTable) return;\n",
              "\n",
              "          const docLinkHtml = 'Like what you see? Visit the ' +\n",
              "            '<a target=\"_blank\" href=https://colab.research.google.com/notebooks/data_table.ipynb>data table notebook</a>'\n",
              "            + ' to learn more about interactive tables.';\n",
              "          element.innerHTML = '';\n",
              "          dataTable['output_type'] = 'display_data';\n",
              "          await google.colab.output.renderOutput(dataTable, element);\n",
              "          const docLink = document.createElement('div');\n",
              "          docLink.innerHTML = docLinkHtml;\n",
              "          element.appendChild(docLink);\n",
              "        }\n",
              "      </script>\n",
              "    </div>\n",
              "  </div>\n",
              "  "
            ]
          },
          "metadata": {},
          "execution_count": 19
        }
      ]
    },
    {
      "cell_type": "code",
      "source": [
        "\n",
        "\n",
        "for filename in glob('*01.json'):\n",
        "  df = pd.read_json(filename)\n",
        "  print(filename, df.shape)\n",
        "  print(df.head())\n",
        "  print('\\n')\n",
        "  #pd.json_normalize(df['metadata'])"
      ],
      "metadata": {
        "colab": {
          "base_uri": "https://localhost:8080/"
        },
        "id": "BZqL7mZtHOZ4",
        "outputId": "7391381f-513a-4986-f797-8a42e9e7e435"
      },
      "execution_count": null,
      "outputs": [
        {
          "output_type": "stream",
          "name": "stdout",
          "text": [
            "B_10_CHI_SF_20221116_10_000929_01.json (9, 2)\n",
            "                                                   metadata annotations\n",
            "type                                                      B         NaN\n",
            "id        {'species': '10', 'mission-id': '10_000929', '...         NaN\n",
            "physical  {'weight': 2.5, 'shoulder-height': 19, 'neck-s...         NaN\n",
            "image                                   {'body-part': '01'}         NaN\n",
            "breeding  {'exercise': 2, 'food-count': 4, 'environment'...         NaN\n",
            "\n",
            "\n",
            "B_10_CHI_SF_20221117_10_000957_01.json (9, 2)\n",
            "                                                   metadata annotations\n",
            "type                                                      B         NaN\n",
            "id        {'species': '10', 'mission-id': '10_000957', '...         NaN\n",
            "physical  {'weight': 1.8, 'shoulder-height': 17, 'neck-s...         NaN\n",
            "image                                   {'body-part': '01'}         NaN\n",
            "breeding  {'exercise': 3, 'food-count': 4, 'environment'...         NaN\n",
            "\n",
            "\n",
            "B_10_DRI_CM_20221121_10_001074_01.json (9, 2)\n",
            "                                                   metadata annotations\n",
            "type                                                      B         NaN\n",
            "id        {'species': '10', 'mission-id': '10_001074', '...         NaN\n",
            "physical  {'weight': 8.8, 'shoulder-height': 24.5, 'neck...         NaN\n",
            "image                                   {'body-part': '01'}         NaN\n",
            "breeding  {'exercise': 2, 'food-count': 2, 'environment'...         NaN\n",
            "\n",
            "\n",
            "B_10_POM_CM_20221116_10_000930_01.json (9, 2)\n",
            "                                                   metadata annotations\n",
            "type                                                      B         NaN\n",
            "id        {'species': '10', 'mission-id': '10_000930', '...         NaN\n",
            "physical  {'weight': 6.86, 'shoulder-height': 31, 'neck-...         NaN\n",
            "image                                   {'body-part': '01'}         NaN\n",
            "breeding  {'exercise': 3, 'food-count': 2, 'environment'...         NaN\n",
            "\n",
            "\n",
            "B_10_ETC_CM_20221116_10_000928_01.json (9, 2)\n",
            "                                                   metadata annotations\n",
            "type                                                      B         NaN\n",
            "id        {'species': '10', 'mission-id': '10_000928', '...         NaN\n",
            "physical  {'weight': 11, 'shoulder-height': 30, 'neck-si...         NaN\n",
            "image                                   {'body-part': '15'}         NaN\n",
            "breeding  {'exercise': 1, 'food-count': 2, 'environment'...         NaN\n",
            "\n",
            "\n",
            "B_10_POO_CM_20221121_10_001075_01.json (9, 2)\n",
            "                                                   metadata annotations\n",
            "type                                                      B         NaN\n",
            "id        {'species': '10', 'mission-id': '10_001075', '...         NaN\n",
            "physical  {'weight': 8.3, 'shoulder-height': 30, 'neck-s...         NaN\n",
            "image                                   {'body-part': '01'}         NaN\n",
            "breeding  {'exercise': 2, 'food-count': 4, 'environment'...         NaN\n",
            "\n",
            "\n",
            "B_10_POO_CM_20221121_10_001073_01.json (9, 2)\n",
            "                                                   metadata annotations\n",
            "type                                                      B         NaN\n",
            "id        {'species': '10', 'mission-id': '10_001073', '...         NaN\n",
            "physical  {'weight': 3.86, 'shoulder-height': 22, 'neck-...         NaN\n",
            "image                                   {'body-part': '01'}         NaN\n",
            "breeding  {'exercise': 2, 'food-count': 4, 'environment'...         NaN\n",
            "\n",
            "\n",
            "B_10_POO_CM_20221121_10_001088_01.json (9, 2)\n",
            "                                                   metadata annotations\n",
            "type                                                      B         NaN\n",
            "id        {'species': '10', 'mission-id': '10_001088', '...         NaN\n",
            "physical  {'weight': 8.8, 'shoulder-height': 34, 'neck-s...         NaN\n",
            "image                                   {'body-part': '01'}         NaN\n",
            "breeding  {'exercise': 2, 'food-count': 2, 'environment'...         NaN\n",
            "\n",
            "\n"
          ]
        }
      ]
    },
    {
      "cell_type": "code",
      "source": [
        "df=pd.read_json(\"/content/drive/Shareddrives/한남동클라쓰/MUNG/라벨링 데이터/B_10_CHI_SF_20221116_10_000929_01.json\")\n",
        "print(df.columns)"
      ],
      "metadata": {
        "colab": {
          "base_uri": "https://localhost:8080/"
        },
        "id": "3wl8xlgKDQkB",
        "outputId": "a0314a98-9820-4e7e-a89b-e55bc0db74a9"
      },
      "execution_count": null,
      "outputs": [
        {
          "output_type": "stream",
          "name": "stdout",
          "text": [
            "Index(['metadata', 'annotations'], dtype='object')\n"
          ]
        }
      ]
    },
    {
      "cell_type": "code",
      "source": [
        "print(df['metadata'])"
      ],
      "metadata": {
        "colab": {
          "base_uri": "https://localhost:8080/"
        },
        "id": "Rp0Y6AFkENBm",
        "outputId": "682b34a0-1936-43f7-c0d9-b29c48931230"
      },
      "execution_count": null,
      "outputs": [
        {
          "output_type": "stream",
          "name": "stdout",
          "text": [
            "type                                                        B\n",
            "id          {'species': '10', 'mission-id': '10_000929', '...\n",
            "physical    {'weight': 2.5, 'shoulder-height': 19, 'neck-s...\n",
            "image                                     {'body-part': '01'}\n",
            "breeding    {'exercise': 2, 'food-count': 4, 'environment'...\n",
            "medical     {'disease': 'ABN', 'diseaseName': 'CAR', 'CRP'...\n",
            "vital       {'heart-rate': 142, 'breating-rate': 33, 'body...\n",
            "image-id                                                  NaN\n",
            "label                                                     NaN\n",
            "Name: metadata, dtype: object\n"
          ]
        }
      ]
    },
    {
      "cell_type": "code",
      "source": [
        "print(df['annotations'])"
      ],
      "metadata": {
        "colab": {
          "base_uri": "https://localhost:8080/"
        },
        "id": "wTt-HnuCEOru",
        "outputId": "762de5f8-96db-418e-d58f-a0a18d9b564d"
      },
      "execution_count": null,
      "outputs": [
        {
          "output_type": "stream",
          "name": "stdout",
          "text": [
            "type                                                      NaN\n",
            "id                                                        NaN\n",
            "physical                                                  NaN\n",
            "image                                                     NaN\n",
            "breeding                                                  NaN\n",
            "medical                                                   NaN\n",
            "vital                                                     NaN\n",
            "image-id                B_10_CHI_SF_20221116_10_000929_01.jpg\n",
            "label       {'label': '전신', 'points': [[454, 484], [2151, ...\n",
            "Name: annotations, dtype: object\n"
          ]
        }
      ]
    },
    {
      "cell_type": "code",
      "source": [
        "new_df=df.drop(['annotations'], axis=1)\n",
        "new_df"
      ],
      "metadata": {
        "colab": {
          "base_uri": "https://localhost:8080/",
          "height": 332
        },
        "id": "dvgBGGhEEOt9",
        "outputId": "6a34f401-98bd-40a3-b0ce-b4b6f767d81e"
      },
      "execution_count": null,
      "outputs": [
        {
          "output_type": "execute_result",
          "data": {
            "text/plain": [
              "                                                   metadata\n",
              "type                                                      B\n",
              "id        {'species': '10', 'mission-id': '10_000929', '...\n",
              "physical  {'weight': 2.5, 'shoulder-height': 19, 'neck-s...\n",
              "image                                   {'body-part': '01'}\n",
              "breeding  {'exercise': 2, 'food-count': 4, 'environment'...\n",
              "medical   {'disease': 'ABN', 'diseaseName': 'CAR', 'CRP'...\n",
              "vital     {'heart-rate': 142, 'breating-rate': 33, 'body...\n",
              "image-id                                                NaN\n",
              "label                                                   NaN"
            ],
            "text/html": [
              "\n",
              "  <div id=\"df-c90e89c2-89bd-45af-a8d8-dbd7654ec938\">\n",
              "    <div class=\"colab-df-container\">\n",
              "      <div>\n",
              "<style scoped>\n",
              "    .dataframe tbody tr th:only-of-type {\n",
              "        vertical-align: middle;\n",
              "    }\n",
              "\n",
              "    .dataframe tbody tr th {\n",
              "        vertical-align: top;\n",
              "    }\n",
              "\n",
              "    .dataframe thead th {\n",
              "        text-align: right;\n",
              "    }\n",
              "</style>\n",
              "<table border=\"1\" class=\"dataframe\">\n",
              "  <thead>\n",
              "    <tr style=\"text-align: right;\">\n",
              "      <th></th>\n",
              "      <th>metadata</th>\n",
              "    </tr>\n",
              "  </thead>\n",
              "  <tbody>\n",
              "    <tr>\n",
              "      <th>type</th>\n",
              "      <td>B</td>\n",
              "    </tr>\n",
              "    <tr>\n",
              "      <th>id</th>\n",
              "      <td>{'species': '10', 'mission-id': '10_000929', '...</td>\n",
              "    </tr>\n",
              "    <tr>\n",
              "      <th>physical</th>\n",
              "      <td>{'weight': 2.5, 'shoulder-height': 19, 'neck-s...</td>\n",
              "    </tr>\n",
              "    <tr>\n",
              "      <th>image</th>\n",
              "      <td>{'body-part': '01'}</td>\n",
              "    </tr>\n",
              "    <tr>\n",
              "      <th>breeding</th>\n",
              "      <td>{'exercise': 2, 'food-count': 4, 'environment'...</td>\n",
              "    </tr>\n",
              "    <tr>\n",
              "      <th>medical</th>\n",
              "      <td>{'disease': 'ABN', 'diseaseName': 'CAR', 'CRP'...</td>\n",
              "    </tr>\n",
              "    <tr>\n",
              "      <th>vital</th>\n",
              "      <td>{'heart-rate': 142, 'breating-rate': 33, 'body...</td>\n",
              "    </tr>\n",
              "    <tr>\n",
              "      <th>image-id</th>\n",
              "      <td>NaN</td>\n",
              "    </tr>\n",
              "    <tr>\n",
              "      <th>label</th>\n",
              "      <td>NaN</td>\n",
              "    </tr>\n",
              "  </tbody>\n",
              "</table>\n",
              "</div>\n",
              "      <button class=\"colab-df-convert\" onclick=\"convertToInteractive('df-c90e89c2-89bd-45af-a8d8-dbd7654ec938')\"\n",
              "              title=\"Convert this dataframe to an interactive table.\"\n",
              "              style=\"display:none;\">\n",
              "        \n",
              "  <svg xmlns=\"http://www.w3.org/2000/svg\" height=\"24px\"viewBox=\"0 0 24 24\"\n",
              "       width=\"24px\">\n",
              "    <path d=\"M0 0h24v24H0V0z\" fill=\"none\"/>\n",
              "    <path d=\"M18.56 5.44l.94 2.06.94-2.06 2.06-.94-2.06-.94-.94-2.06-.94 2.06-2.06.94zm-11 1L8.5 8.5l.94-2.06 2.06-.94-2.06-.94L8.5 2.5l-.94 2.06-2.06.94zm10 10l.94 2.06.94-2.06 2.06-.94-2.06-.94-.94-2.06-.94 2.06-2.06.94z\"/><path d=\"M17.41 7.96l-1.37-1.37c-.4-.4-.92-.59-1.43-.59-.52 0-1.04.2-1.43.59L10.3 9.45l-7.72 7.72c-.78.78-.78 2.05 0 2.83L4 21.41c.39.39.9.59 1.41.59.51 0 1.02-.2 1.41-.59l7.78-7.78 2.81-2.81c.8-.78.8-2.07 0-2.86zM5.41 20L4 18.59l7.72-7.72 1.47 1.35L5.41 20z\"/>\n",
              "  </svg>\n",
              "      </button>\n",
              "      \n",
              "  <style>\n",
              "    .colab-df-container {\n",
              "      display:flex;\n",
              "      flex-wrap:wrap;\n",
              "      gap: 12px;\n",
              "    }\n",
              "\n",
              "    .colab-df-convert {\n",
              "      background-color: #E8F0FE;\n",
              "      border: none;\n",
              "      border-radius: 50%;\n",
              "      cursor: pointer;\n",
              "      display: none;\n",
              "      fill: #1967D2;\n",
              "      height: 32px;\n",
              "      padding: 0 0 0 0;\n",
              "      width: 32px;\n",
              "    }\n",
              "\n",
              "    .colab-df-convert:hover {\n",
              "      background-color: #E2EBFA;\n",
              "      box-shadow: 0px 1px 2px rgba(60, 64, 67, 0.3), 0px 1px 3px 1px rgba(60, 64, 67, 0.15);\n",
              "      fill: #174EA6;\n",
              "    }\n",
              "\n",
              "    [theme=dark] .colab-df-convert {\n",
              "      background-color: #3B4455;\n",
              "      fill: #D2E3FC;\n",
              "    }\n",
              "\n",
              "    [theme=dark] .colab-df-convert:hover {\n",
              "      background-color: #434B5C;\n",
              "      box-shadow: 0px 1px 3px 1px rgba(0, 0, 0, 0.15);\n",
              "      filter: drop-shadow(0px 1px 2px rgba(0, 0, 0, 0.3));\n",
              "      fill: #FFFFFF;\n",
              "    }\n",
              "  </style>\n",
              "\n",
              "      <script>\n",
              "        const buttonEl =\n",
              "          document.querySelector('#df-c90e89c2-89bd-45af-a8d8-dbd7654ec938 button.colab-df-convert');\n",
              "        buttonEl.style.display =\n",
              "          google.colab.kernel.accessAllowed ? 'block' : 'none';\n",
              "\n",
              "        async function convertToInteractive(key) {\n",
              "          const element = document.querySelector('#df-c90e89c2-89bd-45af-a8d8-dbd7654ec938');\n",
              "          const dataTable =\n",
              "            await google.colab.kernel.invokeFunction('convertToInteractive',\n",
              "                                                     [key], {});\n",
              "          if (!dataTable) return;\n",
              "\n",
              "          const docLinkHtml = 'Like what you see? Visit the ' +\n",
              "            '<a target=\"_blank\" href=https://colab.research.google.com/notebooks/data_table.ipynb>data table notebook</a>'\n",
              "            + ' to learn more about interactive tables.';\n",
              "          element.innerHTML = '';\n",
              "          dataTable['output_type'] = 'display_data';\n",
              "          await google.colab.output.renderOutput(dataTable, element);\n",
              "          const docLink = document.createElement('div');\n",
              "          docLink.innerHTML = docLinkHtml;\n",
              "          element.appendChild(docLink);\n",
              "        }\n",
              "      </script>\n",
              "    </div>\n",
              "  </div>\n",
              "  "
            ]
          },
          "metadata": {},
          "execution_count": 19
        }
      ]
    },
    {
      "cell_type": "code",
      "source": [
        "new_df.dropna(inplace=True)\n",
        "new_df"
      ],
      "metadata": {
        "colab": {
          "base_uri": "https://localhost:8080/",
          "height": 269
        },
        "id": "uN6L1an_EOyO",
        "outputId": "83f86edd-c5ea-40a6-e300-6686b5c6375b"
      },
      "execution_count": null,
      "outputs": [
        {
          "output_type": "execute_result",
          "data": {
            "text/plain": [
              "                                                   metadata\n",
              "type                                                      B\n",
              "id        {'species': '10', 'mission-id': '10_000929', '...\n",
              "physical  {'weight': 2.5, 'shoulder-height': 19, 'neck-s...\n",
              "image                                   {'body-part': '01'}\n",
              "breeding  {'exercise': 2, 'food-count': 4, 'environment'...\n",
              "medical   {'disease': 'ABN', 'diseaseName': 'CAR', 'CRP'...\n",
              "vital     {'heart-rate': 142, 'breating-rate': 33, 'body..."
            ],
            "text/html": [
              "\n",
              "  <div id=\"df-a1f1bb6d-5c01-44ff-8e78-7b35f96fa922\">\n",
              "    <div class=\"colab-df-container\">\n",
              "      <div>\n",
              "<style scoped>\n",
              "    .dataframe tbody tr th:only-of-type {\n",
              "        vertical-align: middle;\n",
              "    }\n",
              "\n",
              "    .dataframe tbody tr th {\n",
              "        vertical-align: top;\n",
              "    }\n",
              "\n",
              "    .dataframe thead th {\n",
              "        text-align: right;\n",
              "    }\n",
              "</style>\n",
              "<table border=\"1\" class=\"dataframe\">\n",
              "  <thead>\n",
              "    <tr style=\"text-align: right;\">\n",
              "      <th></th>\n",
              "      <th>metadata</th>\n",
              "    </tr>\n",
              "  </thead>\n",
              "  <tbody>\n",
              "    <tr>\n",
              "      <th>type</th>\n",
              "      <td>B</td>\n",
              "    </tr>\n",
              "    <tr>\n",
              "      <th>id</th>\n",
              "      <td>{'species': '10', 'mission-id': '10_000929', '...</td>\n",
              "    </tr>\n",
              "    <tr>\n",
              "      <th>physical</th>\n",
              "      <td>{'weight': 2.5, 'shoulder-height': 19, 'neck-s...</td>\n",
              "    </tr>\n",
              "    <tr>\n",
              "      <th>image</th>\n",
              "      <td>{'body-part': '01'}</td>\n",
              "    </tr>\n",
              "    <tr>\n",
              "      <th>breeding</th>\n",
              "      <td>{'exercise': 2, 'food-count': 4, 'environment'...</td>\n",
              "    </tr>\n",
              "    <tr>\n",
              "      <th>medical</th>\n",
              "      <td>{'disease': 'ABN', 'diseaseName': 'CAR', 'CRP'...</td>\n",
              "    </tr>\n",
              "    <tr>\n",
              "      <th>vital</th>\n",
              "      <td>{'heart-rate': 142, 'breating-rate': 33, 'body...</td>\n",
              "    </tr>\n",
              "  </tbody>\n",
              "</table>\n",
              "</div>\n",
              "      <button class=\"colab-df-convert\" onclick=\"convertToInteractive('df-a1f1bb6d-5c01-44ff-8e78-7b35f96fa922')\"\n",
              "              title=\"Convert this dataframe to an interactive table.\"\n",
              "              style=\"display:none;\">\n",
              "        \n",
              "  <svg xmlns=\"http://www.w3.org/2000/svg\" height=\"24px\"viewBox=\"0 0 24 24\"\n",
              "       width=\"24px\">\n",
              "    <path d=\"M0 0h24v24H0V0z\" fill=\"none\"/>\n",
              "    <path d=\"M18.56 5.44l.94 2.06.94-2.06 2.06-.94-2.06-.94-.94-2.06-.94 2.06-2.06.94zm-11 1L8.5 8.5l.94-2.06 2.06-.94-2.06-.94L8.5 2.5l-.94 2.06-2.06.94zm10 10l.94 2.06.94-2.06 2.06-.94-2.06-.94-.94-2.06-.94 2.06-2.06.94z\"/><path d=\"M17.41 7.96l-1.37-1.37c-.4-.4-.92-.59-1.43-.59-.52 0-1.04.2-1.43.59L10.3 9.45l-7.72 7.72c-.78.78-.78 2.05 0 2.83L4 21.41c.39.39.9.59 1.41.59.51 0 1.02-.2 1.41-.59l7.78-7.78 2.81-2.81c.8-.78.8-2.07 0-2.86zM5.41 20L4 18.59l7.72-7.72 1.47 1.35L5.41 20z\"/>\n",
              "  </svg>\n",
              "      </button>\n",
              "      \n",
              "  <style>\n",
              "    .colab-df-container {\n",
              "      display:flex;\n",
              "      flex-wrap:wrap;\n",
              "      gap: 12px;\n",
              "    }\n",
              "\n",
              "    .colab-df-convert {\n",
              "      background-color: #E8F0FE;\n",
              "      border: none;\n",
              "      border-radius: 50%;\n",
              "      cursor: pointer;\n",
              "      display: none;\n",
              "      fill: #1967D2;\n",
              "      height: 32px;\n",
              "      padding: 0 0 0 0;\n",
              "      width: 32px;\n",
              "    }\n",
              "\n",
              "    .colab-df-convert:hover {\n",
              "      background-color: #E2EBFA;\n",
              "      box-shadow: 0px 1px 2px rgba(60, 64, 67, 0.3), 0px 1px 3px 1px rgba(60, 64, 67, 0.15);\n",
              "      fill: #174EA6;\n",
              "    }\n",
              "\n",
              "    [theme=dark] .colab-df-convert {\n",
              "      background-color: #3B4455;\n",
              "      fill: #D2E3FC;\n",
              "    }\n",
              "\n",
              "    [theme=dark] .colab-df-convert:hover {\n",
              "      background-color: #434B5C;\n",
              "      box-shadow: 0px 1px 3px 1px rgba(0, 0, 0, 0.15);\n",
              "      filter: drop-shadow(0px 1px 2px rgba(0, 0, 0, 0.3));\n",
              "      fill: #FFFFFF;\n",
              "    }\n",
              "  </style>\n",
              "\n",
              "      <script>\n",
              "        const buttonEl =\n",
              "          document.querySelector('#df-a1f1bb6d-5c01-44ff-8e78-7b35f96fa922 button.colab-df-convert');\n",
              "        buttonEl.style.display =\n",
              "          google.colab.kernel.accessAllowed ? 'block' : 'none';\n",
              "\n",
              "        async function convertToInteractive(key) {\n",
              "          const element = document.querySelector('#df-a1f1bb6d-5c01-44ff-8e78-7b35f96fa922');\n",
              "          const dataTable =\n",
              "            await google.colab.kernel.invokeFunction('convertToInteractive',\n",
              "                                                     [key], {});\n",
              "          if (!dataTable) return;\n",
              "\n",
              "          const docLinkHtml = 'Like what you see? Visit the ' +\n",
              "            '<a target=\"_blank\" href=https://colab.research.google.com/notebooks/data_table.ipynb>data table notebook</a>'\n",
              "            + ' to learn more about interactive tables.';\n",
              "          element.innerHTML = '';\n",
              "          dataTable['output_type'] = 'display_data';\n",
              "          await google.colab.output.renderOutput(dataTable, element);\n",
              "          const docLink = document.createElement('div');\n",
              "          docLink.innerHTML = docLinkHtml;\n",
              "          element.appendChild(docLink);\n",
              "        }\n",
              "      </script>\n",
              "    </div>\n",
              "  </div>\n",
              "  "
            ]
          },
          "metadata": {},
          "execution_count": 21
        }
      ]
    },
    {
      "cell_type": "code",
      "source": [
        "import numpy as np\n",
        "\n",
        "arr=np.array([])\n",
        "arr=new_df.loc['id']\n",
        "print(arr)"
      ],
      "metadata": {
        "colab": {
          "base_uri": "https://localhost:8080/"
        },
        "id": "Qv1mqG9aEOz-",
        "outputId": "3b9c5d17-0810-49c3-d802-4108ed9ff9ee"
      },
      "execution_count": null,
      "outputs": [
        {
          "output_type": "stream",
          "name": "stdout",
          "text": [
            "metadata    {'species': '10', 'mission-id': '10_000929', '...\n",
            "Name: id, dtype: object\n"
          ]
        }
      ]
    },
    {
      "cell_type": "code",
      "source": [
        "newitem = arr[0]\n",
        "print(newitem[\"species\"])"
      ],
      "metadata": {
        "colab": {
          "base_uri": "https://localhost:8080/"
        },
        "id": "mj8Lz8QwIiFm",
        "outputId": "977b8487-645e-43c7-f221-f8ab4e11ace3"
      },
      "execution_count": null,
      "outputs": [
        {
          "output_type": "stream",
          "name": "stdout",
          "text": [
            "10\n"
          ]
        }
      ]
    },
    {
      "cell_type": "code",
      "source": [
        "arr[0]"
      ],
      "metadata": {
        "colab": {
          "base_uri": "https://localhost:8080/"
        },
        "id": "1XXgybnLIiMV",
        "outputId": "b8f54a1e-a732-4fac-c458-97a6c70a9d41"
      },
      "execution_count": null,
      "outputs": [
        {
          "output_type": "execute_result",
          "data": {
            "text/plain": [
              "{'species': '10',\n",
              " 'mission-id': '10_000929',\n",
              " 'provider-code': '0016',\n",
              " 'breed': 'CHI',\n",
              " 'age': 11.1,\n",
              " 'class': 'SS',\n",
              " 'sex': 'SF'}"
            ]
          },
          "metadata": {},
          "execution_count": 41
        }
      ]
    },
    {
      "cell_type": "code",
      "source": [
        "arr[0][\"species\"]\n",
        "arr[0][\"mission-id\"]\n",
        "arr[0][\"provider-code\"]"
      ],
      "metadata": {
        "colab": {
          "base_uri": "https://localhost:8080/",
          "height": 36
        },
        "id": "67b9fs9jIiH8",
        "outputId": "202a15c5-eeaf-4791-bdea-239a74940235"
      },
      "execution_count": null,
      "outputs": [
        {
          "output_type": "execute_result",
          "data": {
            "text/plain": [
              "'0016'"
            ],
            "application/vnd.google.colaboratory.intrinsic+json": {
              "type": "string"
            }
          },
          "metadata": {},
          "execution_count": 47
        }
      ]
    },
    {
      "cell_type": "code",
      "source": [],
      "metadata": {
        "id": "WOJQLL1YIiQk"
      },
      "execution_count": null,
      "outputs": []
    },
    {
      "cell_type": "code",
      "source": [],
      "metadata": {
        "id": "Hou4KhygIiSz"
      },
      "execution_count": null,
      "outputs": []
    },
    {
      "cell_type": "code",
      "source": [
        "print(df)"
      ],
      "metadata": {
        "id": "G13nCeu6Mt-I",
        "outputId": "3e0a9e5f-92c4-4f41-f635-e8ee387e613f",
        "colab": {
          "base_uri": "https://localhost:8080/"
        }
      },
      "execution_count": null,
      "outputs": [
        {
          "output_type": "stream",
          "name": "stdout",
          "text": [
            "                                                   metadata  \\\n",
            "type                                                      B   \n",
            "id        {'species': '10', 'mission-id': '10_001088', '...   \n",
            "physical  {'weight': 8.8, 'shoulder-height': 34, 'neck-s...   \n",
            "image                                   {'body-part': '01'}   \n",
            "breeding  {'exercise': 2, 'food-count': 2, 'environment'...   \n",
            "medical   {'disease': 'NOR', 'CRP': 0.24, 'lgG': 5.1, 'I...   \n",
            "vital     {'heart-rate': 84, 'breating-rate': 24, 'body-...   \n",
            "image-id                                                NaN   \n",
            "label                                                   NaN   \n",
            "\n",
            "                                                annotations  \n",
            "type                                                    NaN  \n",
            "id                                                      NaN  \n",
            "physical                                                NaN  \n",
            "image                                                   NaN  \n",
            "breeding                                                NaN  \n",
            "medical                                                 NaN  \n",
            "vital                                                   NaN  \n",
            "image-id              B_10_POO_CM_20221121_10_001088_01.jpg  \n",
            "label     {'label': '전신', 'points': [[98, 123], [1033, 1...  \n"
          ]
        }
      ]
    },
    {
      "cell_type": "code",
      "source": [],
      "metadata": {
        "id": "i8W7yM7qM7Uv"
      },
      "execution_count": null,
      "outputs": []
    },
    {
      "cell_type": "code",
      "source": [],
      "metadata": {
        "id": "vim0hmhIM7Sr"
      },
      "execution_count": null,
      "outputs": []
    },
    {
      "cell_type": "code",
      "source": [],
      "metadata": {
        "id": "Zocy1pwvM6kg"
      },
      "execution_count": null,
      "outputs": []
    },
    {
      "cell_type": "code",
      "source": [],
      "metadata": {
        "id": "ZnryVspzQLv5"
      },
      "execution_count": null,
      "outputs": []
    }
  ]
}